{
 "cells": [
  {
   "cell_type": "code",
   "execution_count": 3,
   "metadata": {},
   "outputs": [
    {
     "name": "stdout",
     "output_type": "stream",
     "text": [
      "1\n",
      "2\n",
      "3\n",
      "4\n",
      "5\n",
      "6\n",
      "7\n",
      "8\n",
      "9\n",
      "10\n"
     ]
    }
   ],
   "source": [
    "# WAP to print nos. from 1 to 10 using for loop\n",
    "for i in range (1,11):\n",
    "    print (i) "
   ]
  },
  {
   "cell_type": "code",
   "execution_count": 3,
   "metadata": {},
   "outputs": [
    {
     "name": "stdout",
     "output_type": "stream",
     "text": [
      "3 * 1 = 3\n",
      "3 * 2 = 6\n",
      "3 * 3 = 9\n",
      "3 * 4 = 12\n",
      "3 * 5 = 15\n",
      "3 * 6 = 18\n",
      "3 * 7 = 21\n",
      "3 * 8 = 24\n",
      "3 * 9 = 27\n",
      "3 * 10 = 30\n"
     ]
    }
   ],
   "source": [
    "# Write a program to print the multiplication table of a given number using a while loop\n",
    "n= int(input(\"Enter a number\"))\n",
    "count = 1\n",
    "while (count <= 10):\n",
    "    output = n * count\n",
    "    print (f\"{n} * {count} = {output}\")\n",
    "    count += 1\n",
    "    \n",
    "    "
   ]
  },
  {
   "cell_type": "code",
   "execution_count": 6,
   "metadata": {},
   "outputs": [
    {
     "name": "stdout",
     "output_type": "stream",
     "text": [
      "Sum of even numbers between 1 to 100 : 50\n"
     ]
    }
   ],
   "source": [
    "# Write a program to find the sum of all even numbers between 1 and 100 using a for loop.\n",
    "sum = 0\n",
    "for i in range (1,101):\n",
    "    if (i % 2 == 0):\n",
    "        sum = sum + 1\n",
    "print (\"Sum of even numbers between 1 to 100 :\",sum)"
   ]
  },
  {
   "cell_type": "code",
   "execution_count": 21,
   "metadata": {},
   "outputs": [],
   "source": [
    "# Write a program to check if a given number is prime or not using a while loop.\n",
    "num = int(input(\"Enter a number\"))\n",
    "count = 0\n",
    "div = 1\n",
    "while (div <= num):\n",
    "    if (num % div == 0):\n",
    "        count += 1\n",
    "        div += 1\n",
    "if count == 2:\n",
    "    print(f\"{num} is a prime number\")\n",
    "else:\n",
    "    print(f\"{num} is not a prime number\")\n",
    "        "
   ]
  },
  {
   "cell_type": "code",
   "execution_count": null,
   "metadata": {},
   "outputs": [],
   "source": [
    "n = 23\n",
    "fact = 1\n",
    " \n",
    "for i in range(1, n):\n",
    "    fact = fact * i\n",
    " \n",
    "print(\"The factorial of 23 is : \", end=\"\")\n",
    "print(fact)"
   ]
  }
 ],
 "metadata": {
  "kernelspec": {
   "display_name": "base",
   "language": "python",
   "name": "python3"
  },
  "language_info": {
   "codemirror_mode": {
    "name": "ipython",
    "version": 3
   },
   "file_extension": ".py",
   "mimetype": "text/x-python",
   "name": "python",
   "nbconvert_exporter": "python",
   "pygments_lexer": "ipython3",
   "version": "3.11.4"
  },
  "orig_nbformat": 4
 },
 "nbformat": 4,
 "nbformat_minor": 2
}
