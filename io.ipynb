{
 "cells": [
  {
   "cell_type": "code",
   "execution_count": 6,
   "metadata": {},
   "outputs": [],
   "source": [
    "name = \"Akshitaa\"\n",
    "city = 'Hyderabad'"
   ]
  },
  {
   "cell_type": "code",
   "execution_count": 7,
   "metadata": {},
   "outputs": [
    {
     "name": "stdout",
     "output_type": "stream",
     "text": [
      "Information about me\n",
      "Akshitaa\n",
      "Hyderabad\n"
     ]
    }
   ],
   "source": [
    "print('Information about me')\n",
    "print(name)\n",
    "print(city)"
   ]
  },
  {
   "cell_type": "code",
   "execution_count": 8,
   "metadata": {},
   "outputs": [
    {
     "name": "stdout",
     "output_type": "stream",
     "text": [
      "Information about me: Akshitaa Hyderabad\n"
     ]
    }
   ],
   "source": [
    "print('Information about me:',name,city)"
   ]
  },
  {
   "cell_type": "code",
   "execution_count": 9,
   "metadata": {},
   "outputs": [
    {
     "name": "stdout",
     "output_type": "stream",
     "text": [
      "I am Akshitaa and i live in Hyderabad\n"
     ]
    }
   ],
   "source": [
    "print('I am',name,'and i live in',city)"
   ]
  },
  {
   "cell_type": "code",
   "execution_count": 12,
   "metadata": {},
   "outputs": [
    {
     "name": "stdout",
     "output_type": "stream",
     "text": [
      "I am Akshitaa and i live in Hyderabad\n"
     ]
    }
   ],
   "source": [
    "print(f\"I am {name} and i live in {city}\")"
   ]
  },
  {
   "cell_type": "code",
   "execution_count": 9,
   "metadata": {},
   "outputs": [],
   "source": [
    "n1 = \"Amjad\"\n",
    "c1 = 'Lucknow'\n",
    "n2, c2 = \"Aman\", 'Lucknow'\n",
    "n3, c3 = 'Bhupendra','Lucknow'\n",
    "n4, c4 = 'Sia','Lucknow'    "
   ]
  },
  {
   "cell_type": "markdown",
   "metadata": {},
   "source": [
    "### text alignment\n",
    "- `<` left\n",
    "- `^` center\n",
    "- `>` right"
   ]
  },
  {
   "cell_type": "code",
   "execution_count": 30,
   "metadata": {},
   "outputs": [
    {
     "name": "stdout",
     "output_type": "stream",
     "text": [
      "1.      Amjad      Lucknow\n",
      "2.      Aman       Lucknow\n",
      "3.    Bhupendra    Lucknow\n",
      "4.       Sia       Lucknow\n"
     ]
    }
   ],
   "source": [
    "print (f'1. {n1:^15} {c1}')\n",
    "print (f'2. {n2:^15} {c2}')\n",
    "print (f'3. {n3:^15} {c3}')\n",
    "print (f'4. {n4:^15} {c4}')"
   ]
  },
  {
   "cell_type": "code",
   "execution_count": 36,
   "metadata": {},
   "outputs": [
    {
     "name": "stdout",
     "output_type": "stream",
     "text": [
      "Amjad Aman Bhupendra Sia\n"
     ]
    }
   ],
   "source": [
    "print(n1,n2,n3,n4)"
   ]
  },
  {
   "cell_type": "code",
   "execution_count": 10,
   "metadata": {},
   "outputs": [
    {
     "name": "stdout",
     "output_type": "stream",
     "text": [
      "Amjad\tAman\tBhupendra\tSia\n"
     ]
    }
   ],
   "source": [
    "print(n1,n2,n3,n4,sep='\\t')"
   ]
  },
  {
   "cell_type": "code",
   "execution_count": 34,
   "metadata": {},
   "outputs": [
    {
     "name": "stdout",
     "output_type": "stream",
     "text": [
      "Amjad\n",
      "Aman\n",
      "Bhupendra\n",
      "Sia\n"
     ]
    }
   ],
   "source": [
    "print(n1,n2,n3,n4, sep='\\n')"
   ]
  },
  {
   "cell_type": "code",
   "execution_count": 35,
   "metadata": {},
   "outputs": [
    {
     "name": "stdout",
     "output_type": "stream",
     "text": [
      "Amjad,Aman,Bhupendra,Sia\n"
     ]
    }
   ],
   "source": [
    "print(n1,n2,n3,n4, sep=',')"
   ]
  },
  {
   "cell_type": "code",
   "execution_count": null,
   "metadata": {},
   "outputs": [],
   "source": []
  }
 ],
 "metadata": {
  "kernelspec": {
   "display_name": "base",
   "language": "python",
   "name": "python3"
  },
  "language_info": {
   "codemirror_mode": {
    "name": "ipython",
    "version": 3
   },
   "file_extension": ".py",
   "mimetype": "text/x-python",
   "name": "python",
   "nbconvert_exporter": "python",
   "pygments_lexer": "ipython3",
   "version": "3.11.4"
  },
  "orig_nbformat": 4
 },
 "nbformat": 4,
 "nbformat_minor": 2
}
