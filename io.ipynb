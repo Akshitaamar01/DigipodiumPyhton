{
 "cells": [
  {
   "cell_type": "code",
   "execution_count": 3,
   "metadata": {},
   "outputs": [],
   "source": [
    "name = \"Akshitaa\"\n",
    "city = 'Hyderabad'"
   ]
  },
  {
   "cell_type": "code",
   "execution_count": 4,
   "metadata": {},
   "outputs": [
    {
     "name": "stdout",
     "output_type": "stream",
     "text": [
      "Information about me\n",
      "Akshitaa\n",
      "Hyderabad\n"
     ]
    }
   ],
   "source": [
    "print('Information about me')\n",
    "print(name)\n",
    "print(city)"
   ]
  },
  {
   "cell_type": "code",
   "execution_count": 5,
   "metadata": {},
   "outputs": [
    {
     "name": "stdout",
     "output_type": "stream",
     "text": [
      "Information about me: Akshitaa Hyderabad\n"
     ]
    }
   ],
   "source": [
    "print('Information about me:',name,city)"
   ]
  },
  {
   "cell_type": "code",
   "execution_count": 6,
   "metadata": {},
   "outputs": [
    {
     "name": "stdout",
     "output_type": "stream",
     "text": [
      "I am Akshitaa and i live in Hyderabad\n"
     ]
    }
   ],
   "source": [
    "print('I am',name,'and i live in',city)"
   ]
  },
  {
   "cell_type": "code",
   "execution_count": 7,
   "metadata": {},
   "outputs": [
    {
     "name": "stdout",
     "output_type": "stream",
     "text": [
      "I am Akshitaa and i live in Hyderabad\n"
     ]
    }
   ],
   "source": [
    "print(f\"I am {name} and i live in {city}\")"
   ]
  },
  {
   "cell_type": "code",
   "execution_count": 8,
   "metadata": {},
   "outputs": [],
   "source": [
    "n1 = \"Amjad\"\n",
    "c1 = 'Lucknow'\n",
    "n2, c2 = \"Aman\", 'Lucknow'\n",
    "n3, c3 = 'Bhupendra','Lucknow'\n",
    "n4, c4 = 'Sia','Lucknow'    "
   ]
  },
  {
   "cell_type": "markdown",
   "metadata": {},
   "source": [
    "### text alignment\n",
    "- `<` left\n",
    "- `^` center\n",
    "- `>` right"
   ]
  },
  {
   "cell_type": "code",
   "execution_count": 9,
   "metadata": {},
   "outputs": [
    {
     "name": "stdout",
     "output_type": "stream",
     "text": [
      "1.      Amjad      Lucknow\n",
      "2.      Aman       Lucknow\n",
      "3.    Bhupendra    Lucknow\n",
      "4.       Sia       Lucknow\n"
     ]
    }
   ],
   "source": [
    "print (f'1. {n1:^15} {c1}')\n",
    "print (f'2. {n2:^15} {c2}')\n",
    "print (f'3. {n3:^15} {c3}')\n",
    "print (f'4. {n4:^15} {c4}')"
   ]
  },
  {
   "cell_type": "code",
   "execution_count": 10,
   "metadata": {},
   "outputs": [
    {
     "name": "stdout",
     "output_type": "stream",
     "text": [
      "Amjad Aman Bhupendra Sia\n"
     ]
    }
   ],
   "source": [
    "print(n1,n2,n3,n4)"
   ]
  },
  {
   "cell_type": "code",
   "execution_count": 11,
   "metadata": {},
   "outputs": [
    {
     "name": "stdout",
     "output_type": "stream",
     "text": [
      "Amjad\tAman\tBhupendra\tSia\n"
     ]
    }
   ],
   "source": [
    "print(n1,n2,n3,n4,sep='\\t')"
   ]
  },
  {
   "cell_type": "code",
   "execution_count": 12,
   "metadata": {},
   "outputs": [
    {
     "name": "stdout",
     "output_type": "stream",
     "text": [
      "Amjad\n",
      "Aman\n",
      "Bhupendra\n",
      "Sia\n"
     ]
    }
   ],
   "source": [
    "print(n1,n2,n3,n4, sep='\\n')"
   ]
  },
  {
   "cell_type": "code",
   "execution_count": 13,
   "metadata": {},
   "outputs": [
    {
     "name": "stdout",
     "output_type": "stream",
     "text": [
      "Amjad,Aman,Bhupendra,Sia\n"
     ]
    }
   ],
   "source": [
    "print(n1,n2,n3,n4, sep=',')"
   ]
  },
  {
   "cell_type": "code",
   "execution_count": 14,
   "metadata": {},
   "outputs": [
    {
     "name": "stdout",
     "output_type": "stream",
     "text": [
      "Luxemberg in June\n"
     ]
    }
   ],
   "source": [
    "city = input(\"Please enter the city you want to go\")\n",
    "month = input(\"Enter the month name\")\n",
    "print(f'{city} in {month}')"
   ]
  },
  {
   "cell_type": "markdown",
   "metadata": {},
   "source": [
    "Type Casting - Converting one data type to another"
   ]
  },
  {
   "cell_type": "code",
   "execution_count": 16,
   "metadata": {},
   "outputs": [
    {
     "name": "stdout",
     "output_type": "stream",
     "text": [
      "1000 <class 'str'>\n",
      "1000 <class 'int'>\n",
      "1.2356 <class 'str'>\n",
      "1.2356 type(x)\n"
     ]
    }
   ],
   "source": [
    "x = \"1000\"\n",
    "print(f'{x} {type(x)}')\n",
    "y = int(x)\n",
    "print(f'{y} {type(y)}')\n",
    "\n",
    "x = \"1.2356\"\n",
    "print(f'{x} {type(x)}')\n",
    "x = str(x)\n",
    "print(f'{x} type(x)')\n"
   ]
  },
  {
   "cell_type": "code",
   "execution_count": null,
   "metadata": {},
   "outputs": [],
   "source": []
  }
 ],
 "metadata": {
  "kernelspec": {
   "display_name": "base",
   "language": "python",
   "name": "python3"
  },
  "language_info": {
   "codemirror_mode": {
    "name": "ipython",
    "version": 3
   },
   "file_extension": ".py",
   "mimetype": "text/x-python",
   "name": "python",
   "nbconvert_exporter": "python",
   "pygments_lexer": "ipython3",
   "version": "3.11.4"
  },
  "orig_nbformat": 4
 },
 "nbformat": 4,
 "nbformat_minor": 2
}
