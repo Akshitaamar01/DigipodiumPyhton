{
 "cells": [
  {
   "cell_type": "markdown",
   "metadata": {},
   "source": [
    "Loops\n",
    "\n",
    "- for loops\n",
    "- loop concepts\n",
    "   - break\n",
    "   - continue\n",
    "   - else\n",
    "   - enumerate\n",
    "   - zip\n",
    "- While loop\n",
    "\n",
    "for loop syntax\n",
    "\n",
    "for temp_var in iterable:\n",
    "     statement1\n",
    "     statement2"
   ]
  },
  {
   "cell_type": "code",
   "execution_count": 1,
   "metadata": {},
   "outputs": [
    {
     "name": "stdout",
     "output_type": "stream",
     "text": [
      "red\n",
      "green\n",
      "yellow\n",
      "blue\n",
      "white\n",
      "black\n"
     ]
    }
   ],
   "source": [
    "colors = ['red','green','yellow','blue','white','black']\n",
    "for color in colors:\n",
    "    print(color)"
   ]
  },
  {
   "cell_type": "code",
   "execution_count": 4,
   "metadata": {},
   "outputs": [
    {
     "name": "stdout",
     "output_type": "stream",
     "text": [
      "red        3 chars\n",
      "green      5 chars\n",
      "yellow     6 chars\n",
      "blue       4 chars\n",
      "white      5 chars\n",
      "black      5 chars\n"
     ]
    }
   ],
   "source": [
    "for color in colors:\n",
    "    size = len(color)\n",
    "    print(f'{color:10} {size} chars')"
   ]
  },
  {
   "cell_type": "code",
   "execution_count": 5,
   "metadata": {},
   "outputs": [
    {
     "name": "stdout",
     "output_type": "stream",
     "text": [
      "red\n",
      "green\n",
      "yellow\n",
      "blue\n",
      "white\n"
     ]
    }
   ],
   "source": [
    "for color in colors:\n",
    "    if 'e' in color:\n",
    "        print(color)"
   ]
  },
  {
   "cell_type": "code",
   "execution_count": 6,
   "metadata": {},
   "outputs": [
    {
     "name": "stdout",
     "output_type": "stream",
     "text": [
      "Alex\n",
      "Rahul\n",
      "Sonu\n",
      "Monu\n",
      "\n",
      "Raj\n",
      "Rohan\n",
      "\n",
      "\n"
     ]
    }
   ],
   "source": [
    "raw_data = ['Alex','Rahul','Sonu','Monu','','Raj','Rohan','','']\n",
    "for names in raw_data:\n",
    "    print(names)"
   ]
  },
  {
   "cell_type": "code",
   "execution_count": 8,
   "metadata": {},
   "outputs": [
    {
     "name": "stdout",
     "output_type": "stream",
     "text": [
      "Alex\n",
      "Rahul\n",
      "Sonu\n",
      "Monu\n",
      "Raj\n",
      "Rohan\n"
     ]
    }
   ],
   "source": [
    "# Positive Approach\n",
    "for name in raw_data:\n",
    "    if len(name)>0:\n",
    "        print(name)"
   ]
  },
  {
   "cell_type": "code",
   "execution_count": 9,
   "metadata": {},
   "outputs": [
    {
     "name": "stdout",
     "output_type": "stream",
     "text": [
      "Alex\n",
      "Rahul\n",
      "Sonu\n",
      "Monu\n",
      "Raj\n",
      "Rohan\n"
     ]
    }
   ],
   "source": [
    "# Negative Approach (most prefered)\n",
    "for name in raw_data:\n",
    "    if not name:\n",
    "        continue #skip\n",
    "    print(name)"
   ]
  },
  {
   "cell_type": "code",
   "execution_count": 16,
   "metadata": {},
   "outputs": [
    {
     "name": "stdout",
     "output_type": "stream",
     "text": [
      "2\n",
      "4\n",
      "6\n",
      "182\n",
      "56\n",
      "2\n"
     ]
    }
   ],
   "source": [
    "numbers = [2,4,6,182,56,2,23,12,3,34,45,56]\n",
    "for i in numbers:\n",
    "    if i%2 != 0:\n",
    "        break\n",
    "    print(i)"
   ]
  },
  {
   "cell_type": "markdown",
   "metadata": {},
   "source": [
    "Aggregation logic"
   ]
  },
  {
   "cell_type": "code",
   "execution_count": 18,
   "metadata": {},
   "outputs": [
    {
     "name": "stdout",
     "output_type": "stream",
     "text": [
      "69412940513280\n"
     ]
    }
   ],
   "source": [
    "total = 1\n",
    "for i in numbers:\n",
    "    total *= i\n",
    "print(total)"
   ]
  },
  {
   "cell_type": "code",
   "execution_count": 20,
   "metadata": {},
   "outputs": [
    {
     "name": "stdout",
     "output_type": "stream",
     "text": [
      "7 spaces found\n"
     ]
    }
   ],
   "source": [
    "msg = 'This is a simple message with few words'\n",
    "# count the number of spaces using loops\n",
    "count = 0\n",
    "for char in msg:\n",
    "    if char == ' ':\n",
    "        count += 1\n",
    "print(f'{count} spaces found')"
   ]
  },
  {
   "cell_type": "code",
   "execution_count": 21,
   "metadata": {},
   "outputs": [
    {
     "name": "stdout",
     "output_type": "stream",
     "text": [
      "The final empire\n",
      "The well of ascension\n",
      "The hero of ages\n"
     ]
    }
   ],
   "source": [
    "books =['The final empire','The well of ascension','The hero of ages']\n",
    "for book in books:\n",
    "    print(book)"
   ]
  },
  {
   "cell_type": "code",
   "execution_count": 22,
   "metadata": {},
   "outputs": [
    {
     "name": "stdout",
     "output_type": "stream",
     "text": [
      "0 The final empire\n",
      "1 The well of ascension\n",
      "2 The hero of ages\n"
     ]
    }
   ],
   "source": [
    "# bakwas code\n",
    "idx = 0\n",
    "for book in books:\n",
    "    print(f'{idx} {book}')\n",
    "    idx += 1"
   ]
  },
  {
   "cell_type": "code",
   "execution_count": 23,
   "metadata": {},
   "outputs": [
    {
     "name": "stdout",
     "output_type": "stream",
     "text": [
      "0 The final empire\n",
      "1 The well of ascension\n",
      "2 The hero of ages\n"
     ]
    }
   ],
   "source": [
    "# better code\n",
    "for i in range(len(books)):\n",
    "    print(f\"{i} {books[i]}\")"
   ]
  },
  {
   "cell_type": "code",
   "execution_count": 24,
   "metadata": {},
   "outputs": [
    {
     "name": "stdout",
     "output_type": "stream",
     "text": [
      "0 The final empire\n",
      "1 The well of ascension\n",
      "2 The hero of ages\n"
     ]
    }
   ],
   "source": [
    "#pythonic code\n",
    "for idx, val in enumerate(books):\n",
    "    print(f\"{idx} {val}\")"
   ]
  },
  {
   "cell_type": "code",
   "execution_count": 25,
   "metadata": {},
   "outputs": [
    {
     "name": "stdout",
     "output_type": "stream",
     "text": [
      "Alex\n",
      "Alexa\n",
      "Alexis\n",
      "Alexander\n",
      "Bruno\n"
     ]
    }
   ],
   "source": [
    "names =[ \n",
    "        'Alex', 'Alexa','Alexis','Alexander','Bruno','Brutus', 'Charles', 'Chatlie'\n",
    "]\n",
    "for idx, name in enumerate(names):\n",
    "    if idx == 5: break\n",
    "    print(name)"
   ]
  },
  {
   "cell_type": "code",
   "execution_count": null,
   "metadata": {},
   "outputs": [],
   "source": []
  }
 ],
 "metadata": {
  "kernelspec": {
   "display_name": "base",
   "language": "python",
   "name": "python3"
  },
  "language_info": {
   "codemirror_mode": {
    "name": "ipython",
    "version": 3
   },
   "file_extension": ".py",
   "mimetype": "text/x-python",
   "name": "python",
   "nbconvert_exporter": "python",
   "pygments_lexer": "ipython3",
   "version": "3.11.4"
  },
  "orig_nbformat": 4
 },
 "nbformat": 4,
 "nbformat_minor": 2
}
