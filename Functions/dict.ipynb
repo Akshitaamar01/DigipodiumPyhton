{
 "cells": [
  {
   "cell_type": "code",
   "execution_count": 4,
   "metadata": {},
   "outputs": [],
   "source": [
    "x ={\n",
    "    'brand': \"Mahindra\",\n",
    "    'model': 'XUV',\n",
    "    'series': '500',\n",
    "    'type': \"Diesel\",\n",
    "    \"fuel capacity\": 30,\n",
    "    'mileage': 10,\n",
    "    'color': 'white',\n",
    "    'is_4wd': True,\n",
    "    'colors': ['Red','White','Black']\n",
    "}"
   ]
  },
  {
   "cell_type": "code",
   "execution_count": 5,
   "metadata": {},
   "outputs": [],
   "source": [
    "info ={} #empty dict"
   ]
  },
  {
   "cell_type": "code",
   "execution_count": 11,
   "metadata": {},
   "outputs": [
    {
     "data": {
      "text/plain": [
       "{'name': 'Henry', 'first_name': 'Henry'}"
      ]
     },
     "execution_count": 11,
     "metadata": {},
     "output_type": "execute_result"
    }
   ],
   "source": [
    "info['first_name'] = \"Henry\"\n",
    "info"
   ]
  },
  {
   "cell_type": "code",
   "execution_count": 12,
   "metadata": {},
   "outputs": [
    {
     "name": "stdout",
     "output_type": "stream",
     "text": [
      "{'name': 'Henry', 'first_name': 'Henry', 'last_name': 'Sigar', 'age': 45, 'city': 'New York'}\n"
     ]
    }
   ],
   "source": [
    "info['last_name']= \"Sigar\"\n",
    "info['age']= 45\n",
    "info['city']=\"New York\"\n",
    "print(info)"
   ]
  },
  {
   "cell_type": "code",
   "execution_count": null,
   "metadata": {},
   "outputs": [],
   "source": []
  }
 ],
 "metadata": {
  "kernelspec": {
   "display_name": "base",
   "language": "python",
   "name": "python3"
  },
  "language_info": {
   "codemirror_mode": {
    "name": "ipython",
    "version": 3
   },
   "file_extension": ".py",
   "mimetype": "text/x-python",
   "name": "python",
   "nbconvert_exporter": "python",
   "pygments_lexer": "ipython3",
   "version": "3.11.4"
  },
  "orig_nbformat": 4
 },
 "nbformat": 4,
 "nbformat_minor": 2
}
