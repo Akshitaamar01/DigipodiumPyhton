{
 "cells": [
  {
   "cell_type": "code",
   "execution_count": 1,
   "metadata": {},
   "outputs": [],
   "source": [
    "class Bottle:\n",
    "    def __init__(self, material, content, capacity):\n",
    "        \n",
    "        self.material = material\n",
    "        self.content = content\n",
    "        self.capacity = capacity\n",
    "        \n",
    "    def check(self):\n",
    "        print(f'{self.material} bottle with {self.capacity} ml of {self.content}')"
   ]
  },
  {
   "cell_type": "code",
   "execution_count": 4,
   "metadata": {},
   "outputs": [],
   "source": [
    "b1 = Bottle(\"plastic\",\"water\",1000)\n",
    "b2 = Bottle(\"glass\",\"water\",500)\n",
    "b3 = Bottle(\"steel\",\"water\",2000)\n",
    "b4 = Bottle('glass', 'red wine', 1000)\n",
    "b5 = Bottle('glass','beer',1000)"
   ]
  },
  {
   "cell_type": "code",
   "execution_count": 5,
   "metadata": {},
   "outputs": [
    {
     "name": "stdout",
     "output_type": "stream",
     "text": [
      "plastic water 1000\n"
     ]
    }
   ],
   "source": [
    "print(b1.material, b1.content, b1.capacity)"
   ]
  },
  {
   "cell_type": "code",
   "execution_count": 6,
   "metadata": {},
   "outputs": [
    {
     "name": "stdout",
     "output_type": "stream",
     "text": [
      "plastic bottle with 1000 ml of water\n",
      "glass bottle with 500 ml of water\n",
      "steel bottle with 2000 ml of water\n",
      "glass bottle with 1000 ml of red wine\n",
      "glass bottle with 1000 ml of beer\n"
     ]
    }
   ],
   "source": [
    "b1.check()\n",
    "b2.check()\n",
    "b3.check()\n",
    "b4.check()\n",
    "b5.check()"
   ]
  },
  {
   "cell_type": "code",
   "execution_count": 7,
   "metadata": {},
   "outputs": [
    {
     "name": "stdout",
     "output_type": "stream",
     "text": [
      "glass bottle with 500 ml of Malbec\n"
     ]
    }
   ],
   "source": [
    "b2.content = 'Malbec'\n",
    "b2.check()"
   ]
  },
  {
   "cell_type": "markdown",
   "metadata": {},
   "source": [
    "create a class calculator with following method\n",
    "- multiply\n",
    "- divide\n",
    "- exponent\n",
    "- add\n",
    "- subtract"
   ]
  },
  {
   "cell_type": "code",
   "execution_count": 9,
   "metadata": {},
   "outputs": [],
   "source": [
    "class calc:\n",
    "    def multiply (self, a, b):\n",
    "        return a*b\n",
    "    def divide (self, a, b):\n",
    "        return a/b\n",
    "    def add (self, a, b):\n",
    "        return a+b\n",
    "    def exponent(self, a, b):\n",
    "        return a**b \n",
    "    def subtract(self, a, b):\n",
    "        return a-b "
   ]
  },
  {
   "cell_type": "code",
   "execution_count": 10,
   "metadata": {},
   "outputs": [
    {
     "name": "stdout",
     "output_type": "stream",
     "text": [
      "30\n",
      "708\n",
      "20\n"
     ]
    }
   ],
   "source": [
    "c= calc()\n",
    "print(c.add(10,20))\n",
    "print(c.multiply(12,59))\n",
    "print(c.multiply(10,2))"
   ]
  },
  {
   "cell_type": "code",
   "execution_count": 11,
   "metadata": {},
   "outputs": [],
   "source": [
    "from dataclasses import dataclass"
   ]
  },
  {
   "cell_type": "code",
   "execution_count": 18,
   "metadata": {},
   "outputs": [],
   "source": [
    "@dataclass\n",
    "class Recipe:\n",
    "    name : str\n",
    "    ingredients : list\n",
    "    instructions : str\n",
    "    "
   ]
  },
  {
   "cell_type": "code",
   "execution_count": 14,
   "metadata": {},
   "outputs": [
    {
     "name": "stdout",
     "output_type": "stream",
     "text": [
      "Help on class Recipe in module __main__:\n",
      "\n",
      "class Recipe(builtins.object)\n",
      " |  Recipe(name: str, ingredients: list, instructions: str) -> None\n",
      " |  \n",
      " |  Recipe(name: str, ingredients: list, instructions: str)\n",
      " |  \n",
      " |  Methods defined here:\n",
      " |  \n",
      " |  __eq__(self, other)\n",
      " |      Return self==value.\n",
      " |  \n",
      " |  __init__(self, name: str, ingredients: list, instructions: str) -> None\n",
      " |      Initialize self.  See help(type(self)) for accurate signature.\n",
      " |  \n",
      " |  __repr__(self)\n",
      " |      Return repr(self).\n",
      " |  \n",
      " |  ----------------------------------------------------------------------\n",
      " |  Data descriptors defined here:\n",
      " |  \n",
      " |  __dict__\n",
      " |      dictionary for instance variables (if defined)\n",
      " |  \n",
      " |  __weakref__\n",
      " |      list of weak references to the object (if defined)\n",
      " |  \n",
      " |  ----------------------------------------------------------------------\n",
      " |  Data and other attributes defined here:\n",
      " |  \n",
      " |  __annotations__ = {'ingredients': <class 'list'>, 'instructions': <cla...\n",
      " |  \n",
      " |  __dataclass_fields__ = {'ingredients': Field(name='ingredients',type=<...\n",
      " |  \n",
      " |  __dataclass_params__ = _DataclassParams(init=True,repr=True,eq=True,or...\n",
      " |  \n",
      " |  __hash__ = None\n",
      " |  \n",
      " |  __match_args__ = ('name', 'ingredients', 'instructions')\n",
      "\n"
     ]
    }
   ],
   "source": [
    "help (Recipe)"
   ]
  },
  {
   "cell_type": "code",
   "execution_count": 15,
   "metadata": {},
   "outputs": [],
   "source": [
    "@dataclass\n",
    "class BottleX:\n",
    "    material : str\n",
    "    content : str\n",
    "    capacity : int"
   ]
  },
  {
   "cell_type": "code",
   "execution_count": 22,
   "metadata": {},
   "outputs": [
    {
     "ename": "TypeError",
     "evalue": "Recipe.__init__() missing 1 required positional argument: 'instructions'",
     "output_type": "error",
     "traceback": [
      "\u001b[1;31m---------------------------------------------------------------------------\u001b[0m",
      "\u001b[1;31mTypeError\u001b[0m                                 Traceback (most recent call last)",
      "\u001b[1;32mc:\\Users\\Dell\\OneDrive\\Documents\\DigipodiumPyhton\\Functions\\oop.ipynb Cell 13\u001b[0m line \u001b[0;36m1\n\u001b[1;32m----> <a href='vscode-notebook-cell:/c%3A/Users/Dell/OneDrive/Documents/DigipodiumPyhton/Functions/oop.ipynb#X16sZmlsZQ%3D%3D?line=0'>1</a>\u001b[0m r1 \u001b[39m=\u001b[39m Recipe(\u001b[39m\"\u001b[39m\u001b[39mMac n Cheeze\u001b[39m\u001b[39m\"\u001b[39m, \n\u001b[0;32m      <a href='vscode-notebook-cell:/c%3A/Users/Dell/OneDrive/Documents/DigipodiumPyhton/Functions/oop.ipynb#X16sZmlsZQ%3D%3D?line=1'>2</a>\u001b[0m             [\u001b[39m\"\u001b[39m\u001b[39mmac\u001b[39m\u001b[39m\"\u001b[39m,\u001b[39m\"\u001b[39m\u001b[39mcheeze\u001b[39m\u001b[39m\"\u001b[39m,\u001b[39m\"\u001b[39m\u001b[39mbutter\u001b[39m\u001b[39m\"\u001b[39m])\n\u001b[0;32m      <a href='vscode-notebook-cell:/c%3A/Users/Dell/OneDrive/Documents/DigipodiumPyhton/Functions/oop.ipynb#X16sZmlsZQ%3D%3D?line=2'>3</a>\u001b[0m r2 \u001b[39m=\u001b[39m Recipe(\u001b[39m\"\u001b[39m\u001b[39mMango Shake\u001b[39m\u001b[39m\"\u001b[39m,\n\u001b[0;32m      <a href='vscode-notebook-cell:/c%3A/Users/Dell/OneDrive/Documents/DigipodiumPyhton/Functions/oop.ipynb#X16sZmlsZQ%3D%3D?line=3'>4</a>\u001b[0m             [\u001b[39m'\u001b[39m\u001b[39mMango\u001b[39m\u001b[39m'\u001b[39m, \u001b[39m'\u001b[39m\u001b[39mMilk\u001b[39m\u001b[39m'\u001b[39m],\n\u001b[0;32m      <a href='vscode-notebook-cell:/c%3A/Users/Dell/OneDrive/Documents/DigipodiumPyhton/Functions/oop.ipynb#X16sZmlsZQ%3D%3D?line=4'>5</a>\u001b[0m             instructions\u001b[39m=\u001b[39m\u001b[39m\"\u001b[39m\u001b[39mMix well\u001b[39m\u001b[39m\"\u001b[39m)\n\u001b[0;32m      <a href='vscode-notebook-cell:/c%3A/Users/Dell/OneDrive/Documents/DigipodiumPyhton/Functions/oop.ipynb#X16sZmlsZQ%3D%3D?line=5'>6</a>\u001b[0m \u001b[39mprint\u001b[39m(r1)\n",
      "\u001b[1;31mTypeError\u001b[0m: Recipe.__init__() missing 1 required positional argument: 'instructions'"
     ]
    }
   ],
   "source": [
    "r1 = Recipe(\"Mac n Cheeze\", \n",
    "            [\"mac\",\"cheeze\",\"butter\"])\n",
    "r2 = Recipe(\"Mango Shake\",\n",
    "            ['Mango', 'Milk'],\n",
    "            instructions=\"Mix well\")\n",
    "print(r1)\n",
    "print(r2)"
   ]
  },
  {
   "cell_type": "code",
   "execution_count": 1,
   "metadata": {},
   "outputs": [
    {
     "name": "stdout",
     "output_type": "stream",
     "text": [
      "Orange\n",
      "Neemo\n"
     ]
    }
   ],
   "source": [
    "class fish:\n",
    "    def __init__(self, name, color, species):\n",
    "        self.name = name\n",
    "        self.color = color\n",
    "        self.species = species\n",
    "        \n",
    "f1 = fish('Neemo', 'Orange', 'clown fish')\n",
    "print(f1.color)\n",
    "print(f1.name)"
   ]
  },
  {
   "cell_type": "code",
   "execution_count": 4,
   "metadata": {},
   "outputs": [
    {
     "name": "stdout",
     "output_type": "stream",
     "text": [
      "fish(name='Neemo', color='Orange', species='clown fish')\n",
      "fish(name='dory', color='blue', species='blue tang')\n"
     ]
    }
   ],
   "source": [
    "from dataclasses import dataclass\n",
    "\n",
    "@dataclass\n",
    "class fish:\n",
    "    name : str\n",
    "    color : str\n",
    "    species : str = \"unknown\"\n",
    "    \n",
    "    f1 = fish('Neemo', 'Orange', 'clown fish')\n",
    "    f2 = fish('dory', 'blue', 'blue tang')\n",
    "    print(f1)\n",
    "    print(f2)"
   ]
  },
  {
   "cell_type": "code",
   "execution_count": 6,
   "metadata": {},
   "outputs": [],
   "source": [
    "class Item:\n",
    "    def __init__(self, name, weight):\n",
    "        self.name = name\n",
    "        self.weight = weight\n",
    "class SpecialItem(Item):\n",
    "    def __init__(self, name, weight, speciality):\n",
    "        super().__init__(name,weight)\n",
    "        self.speciality = speciality"
   ]
  }
 ],
 "metadata": {
  "kernelspec": {
   "display_name": "base",
   "language": "python",
   "name": "python3"
  },
  "language_info": {
   "codemirror_mode": {
    "name": "ipython",
    "version": 3
   },
   "file_extension": ".py",
   "mimetype": "text/x-python",
   "name": "python",
   "nbconvert_exporter": "python",
   "pygments_lexer": "ipython3",
   "version": "3.11.4"
  }
 },
 "nbformat": 4,
 "nbformat_minor": 2
}
