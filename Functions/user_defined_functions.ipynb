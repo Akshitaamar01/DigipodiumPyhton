{
 "cells": [
  {
   "cell_type": "code",
   "execution_count": null,
   "metadata": {},
   "outputs": [],
   "source": []
  },
  {
   "cell_type": "markdown",
   "metadata": {},
   "source": [
    "# Non-Parameterized Function"
   ]
  },
  {
   "cell_type": "code",
   "execution_count": 2,
   "metadata": {},
   "outputs": [],
   "source": [
    "#define\n",
    "def message():\n",
    "    print(\"Good Morning\")"
   ]
  },
  {
   "cell_type": "code",
   "execution_count": 4,
   "metadata": {},
   "outputs": [
    {
     "name": "stdout",
     "output_type": "stream",
     "text": [
      "Good Morning\n"
     ]
    }
   ],
   "source": [
    "# call (use)\n",
    "message()"
   ]
  },
  {
   "cell_type": "code",
   "execution_count": 13,
   "metadata": {},
   "outputs": [],
   "source": [
    "def si():\n",
    "    p = int(input(\"Enter Principal Amount:\"))\n",
    "    r = float(input(\"Enter Rate of Interest:\"))\n",
    "    t = int(input(\"Enter time in years:\"))\n",
    "    si = p*r*t/100\n",
    "    print(f'Simple Interest is {si}')"
   ]
  },
  {
   "cell_type": "code",
   "execution_count": 10,
   "metadata": {},
   "outputs": [
    {
     "name": "stdout",
     "output_type": "stream",
     "text": [
      "Simple Interest is 4000.0\n",
      "\n"
     ]
    }
   ],
   "source": [
    "si()"
   ]
  },
  {
   "cell_type": "markdown",
   "metadata": {},
   "source": [
    "# Parameterized Functions\n",
    "- Required Parameters\n",
    "- Default Parameters\n",
    "- Keyword Parameters\n",
    "- Variable Argument (args)\n",
    "- Variable Keyword Arguments (kwargs)"
   ]
  },
  {
   "cell_type": "markdown",
   "metadata": {},
   "source": [
    "Requirement Parameters"
   ]
  },
  {
   "cell_type": "code",
   "execution_count": 17,
   "metadata": {},
   "outputs": [],
   "source": [
    "# More professional way to define functions\n",
    "def hypotenuse(p:int, b:int):\n",
    "    # this function takes perpendicular and base to calculate hypotenuse\n",
    "    h = (p**2 + b**2) **.5\n",
    "    print(f'hypotenuse: {h}')"
   ]
  },
  {
   "cell_type": "code",
   "execution_count": 15,
   "metadata": {},
   "outputs": [
    {
     "name": "stdout",
     "output_type": "stream",
     "text": [
      "hypotenuse: 50.0\n"
     ]
    }
   ],
   "source": [
    "hypotenuse(30,40)"
   ]
  },
  {
   "cell_type": "markdown",
   "metadata": {},
   "source": [
    "Default parameters\n",
    "- always start giving defaults from the right side\n",
    "- default values can be any"
   ]
  },
  {
   "cell_type": "code",
   "execution_count": 25,
   "metadata": {},
   "outputs": [],
   "source": [
    "def summer(a, b, c=0, d=0):\n",
    "    print(a +b + c +d)"
   ]
  },
  {
   "cell_type": "code",
   "execution_count": 23,
   "metadata": {},
   "outputs": [
    {
     "name": "stdout",
     "output_type": "stream",
     "text": [
      "103\n"
     ]
    }
   ],
   "source": [
    "summer(12, 34, 12, 45)"
   ]
  },
  {
   "cell_type": "code",
   "execution_count": 26,
   "metadata": {},
   "outputs": [
    {
     "name": "stdout",
     "output_type": "stream",
     "text": [
      "150\n"
     ]
    }
   ],
   "source": [
    "summer(120,30)"
   ]
  },
  {
   "cell_type": "code",
   "execution_count": 27,
   "metadata": {},
   "outputs": [
    {
     "name": "stdout",
     "output_type": "stream",
     "text": [
      "60\n"
     ]
    }
   ],
   "source": [
    "summer(10,20,30)"
   ]
  },
  {
   "cell_type": "code",
   "execution_count": 28,
   "metadata": {},
   "outputs": [],
   "source": [
    "def area_circle(radius =1):\n",
    "    area = 22/7 * radius ** 2\n",
    "    print (area)"
   ]
  },
  {
   "cell_type": "code",
   "execution_count": 29,
   "metadata": {},
   "outputs": [
    {
     "name": "stdout",
     "output_type": "stream",
     "text": [
      "314.2857142857143\n"
     ]
    }
   ],
   "source": [
    "area_circle(10)"
   ]
  },
  {
   "cell_type": "markdown",
   "metadata": {},
   "source": [
    "Keyword Arguments (named parameters)"
   ]
  },
  {
   "cell_type": "code",
   "execution_count": 31,
   "metadata": {},
   "outputs": [
    {
     "name": "stdout",
     "output_type": "stream",
     "text": [
      "10\n",
      "10\n",
      "33\n",
      "33\n",
      "13\n",
      "29\n",
      "314.2857142857143\n"
     ]
    }
   ],
   "source": [
    "summer(1,2,3,4)\n",
    "summer(a=1, b=2, c=3, d=4)\n",
    "summer(1, 2, c=10, d=20)\n",
    "summer(1,2, d=20, c=10)\n",
    "summer(d=5, c=5, a=1, b=2)\n",
    "summer(12,12,d=5)\n",
    "area_circle(radius=10)\n"
   ]
  },
  {
   "cell_type": "markdown",
   "metadata": {},
   "source": [
    "Variable Arguments"
   ]
  },
  {
   "cell_type": "code",
   "execution_count": 34,
   "metadata": {},
   "outputs": [],
   "source": [
    "def mean(*data):\n",
    "    ans = sum(data)/len(data)\n",
    "    print(f\"average:{ans}\")"
   ]
  },
  {
   "cell_type": "code",
   "execution_count": 35,
   "metadata": {},
   "outputs": [
    {
     "name": "stdout",
     "output_type": "stream",
     "text": [
      "average:3.5\n"
     ]
    }
   ],
   "source": [
    "mean(1,2,3,4,5,6)"
   ]
  },
  {
   "cell_type": "code",
   "execution_count": 36,
   "metadata": {},
   "outputs": [
    {
     "name": "stdout",
     "output_type": "stream",
     "text": [
      "average:2.526315789473684\n"
     ]
    }
   ],
   "source": [
    "mean(1,2,3,5,6,2,2,2,1,1,1,2,4,2,2,2,4,3,3)"
   ]
  },
  {
   "cell_type": "markdown",
   "metadata": {},
   "source": [
    "# Variable Arguments"
   ]
  },
  {
   "cell_type": "code",
   "execution_count": 1,
   "metadata": {},
   "outputs": [],
   "source": [
    "def task(**details):\n",
    "    for name, value in details.items():\n",
    "        print(f'{name:10}{value}')"
   ]
  },
  {
   "cell_type": "code",
   "execution_count": 2,
   "metadata": {},
   "outputs": [
    {
     "name": "stdout",
     "output_type": "stream",
     "text": [
      "title     learn datatypes\n",
      "duration  1 day\n",
      "credit    1\n"
     ]
    }
   ],
   "source": [
    "task(title='learn datatypes', duration= \"1 day\", credit=1)"
   ]
  },
  {
   "cell_type": "code",
   "execution_count": 3,
   "metadata": {},
   "outputs": [
    {
     "name": "stdout",
     "output_type": "stream",
     "text": [
      "name      Bring Food\n",
      "details   Brinjal, Potato, Tomato\n",
      "budget    200\n",
      "date      26-sep-2023\n"
     ]
    }
   ],
   "source": [
    "task(name=\"Bring Food\",\n",
    "     details=\"Brinjal, Potato, Tomato\",\n",
    "     budget = 200,\n",
    "     date = \"26-sep-2023\"\n",
    "     )"
   ]
  },
  {
   "cell_type": "code",
   "execution_count": 4,
   "metadata": {},
   "outputs": [
    {
     "data": {
      "text/plain": [
       "5"
      ]
     },
     "execution_count": 4,
     "metadata": {},
     "output_type": "execute_result"
    }
   ],
   "source": [
    "len(\"hello\")"
   ]
  },
  {
   "cell_type": "markdown",
   "metadata": {},
   "source": [
    "Function returning value"
   ]
  },
  {
   "cell_type": "code",
   "execution_count": 6,
   "metadata": {},
   "outputs": [],
   "source": [
    "def hypotenuse(p:int, b:int):\n",
    "    # this function takes perpendicular and base to calculate hypotenuse\n",
    "    h = (p**2 + b**2) **.5\n",
    "    return h"
   ]
  },
  {
   "cell_type": "code",
   "execution_count": 9,
   "metadata": {},
   "outputs": [
    {
     "name": "stdout",
     "output_type": "stream",
     "text": [
      "5.0\n"
     ]
    }
   ],
   "source": [
    "ans=hypotenuse(3,4)\n",
    "print (ans)"
   ]
  },
  {
   "cell_type": "code",
   "execution_count": 12,
   "metadata": {},
   "outputs": [],
   "source": [
    "def cube_area(side):\n",
    "    return 6 * side ** 2"
   ]
  },
  {
   "cell_type": "code",
   "execution_count": 13,
   "metadata": {},
   "outputs": [
    {
     "data": {
      "text/plain": [
       "600"
      ]
     },
     "execution_count": 13,
     "metadata": {},
     "output_type": "execute_result"
    }
   ],
   "source": [
    "cube_area(10)"
   ]
  },
  {
   "cell_type": "code",
   "execution_count": 14,
   "metadata": {},
   "outputs": [],
   "source": [
    "def cube_volume(side):\n",
    "    return side**3"
   ]
  },
  {
   "cell_type": "code",
   "execution_count": 16,
   "metadata": {},
   "outputs": [
    {
     "name": "stdout",
     "output_type": "stream",
     "text": [
      "1000 600\n"
     ]
    }
   ],
   "source": [
    "cv = cube_volume(10)\n",
    "ca = cube_area(10)\n",
    "print(cv, ca)"
   ]
  },
  {
   "cell_type": "code",
   "execution_count": 18,
   "metadata": {},
   "outputs": [
    {
     "name": "stdout",
     "output_type": "stream",
     "text": [
      "1020\n"
     ]
    }
   ],
   "source": [
    "x = cube_volume(10)+20\n",
    "print (x)"
   ]
  },
  {
   "cell_type": "code",
   "execution_count": 19,
   "metadata": {},
   "outputs": [],
   "source": [
    "# write a function to return the no. of words in a string\n",
    "def count_words(input_string):\n",
    "    words= input_string.split()\n",
    "    return len(words)\n"
   ]
  },
  {
   "cell_type": "code",
   "execution_count": 20,
   "metadata": {},
   "outputs": [
    {
     "name": "stdout",
     "output_type": "stream",
     "text": [
      "No. of words: 6\n"
     ]
    }
   ],
   "source": [
    "input_string = \"No. of words in a string\"\n",
    "word_count = count_words(input_string)\n",
    "print(\"No. of words:\", word_count)"
   ]
  },
  {
   "cell_type": "markdown",
   "metadata": {},
   "source": [
    "### remove all vowels from a string using a function"
   ]
  },
  {
   "cell_type": "code",
   "execution_count": 25,
   "metadata": {},
   "outputs": [],
   "source": [
    "def remove_vowels(input_string):\n",
    "    results= \" \"\n",
    "    for char in input_string:\n",
    "        if char.lower() not in ['a','e','i','o','u']:\n",
    "            result = result+char\n",
    "    return result"
   ]
  },
  {
   "cell_type": "code",
   "execution_count": 27,
   "metadata": {},
   "outputs": [
    {
     "ename": "UnboundLocalError",
     "evalue": "cannot access local variable 'result' where it is not associated with a value",
     "output_type": "error",
     "traceback": [
      "\u001b[1;31m---------------------------------------------------------------------------\u001b[0m",
      "\u001b[1;31mUnboundLocalError\u001b[0m                         Traceback (most recent call last)",
      "\u001b[1;32mc:\\Users\\Dell\\OneDrive\\Documents\\DigipodiumPyhton\\Functions\\user_defined_functions.ipynb Cell 41\u001b[0m line \u001b[0;36m2\n\u001b[0;32m      <a href='vscode-notebook-cell:/c%3A/Users/Dell/OneDrive/Documents/DigipodiumPyhton/Functions/user_defined_functions.ipynb#X60sZmlsZQ%3D%3D?line=0'>1</a>\u001b[0m input_string \u001b[39m=\u001b[39m \u001b[39m\"\u001b[39m\u001b[39mVowels are removed\u001b[39m\u001b[39m\"\u001b[39m\n\u001b[1;32m----> <a href='vscode-notebook-cell:/c%3A/Users/Dell/OneDrive/Documents/DigipodiumPyhton/Functions/user_defined_functions.ipynb#X60sZmlsZQ%3D%3D?line=1'>2</a>\u001b[0m result \u001b[39m=\u001b[39m remove_vowels(input_string)\n\u001b[0;32m      <a href='vscode-notebook-cell:/c%3A/Users/Dell/OneDrive/Documents/DigipodiumPyhton/Functions/user_defined_functions.ipynb#X60sZmlsZQ%3D%3D?line=2'>3</a>\u001b[0m \u001b[39mprint\u001b[39m(\u001b[39m\"\u001b[39m\u001b[39mString with vowels removed:\u001b[39m\u001b[39m\"\u001b[39m, result)\n",
      "\u001b[1;32mc:\\Users\\Dell\\OneDrive\\Documents\\DigipodiumPyhton\\Functions\\user_defined_functions.ipynb Cell 41\u001b[0m line \u001b[0;36m5\n\u001b[0;32m      <a href='vscode-notebook-cell:/c%3A/Users/Dell/OneDrive/Documents/DigipodiumPyhton/Functions/user_defined_functions.ipynb#X60sZmlsZQ%3D%3D?line=2'>3</a>\u001b[0m \u001b[39mfor\u001b[39;00m char \u001b[39min\u001b[39;00m input_string:\n\u001b[0;32m      <a href='vscode-notebook-cell:/c%3A/Users/Dell/OneDrive/Documents/DigipodiumPyhton/Functions/user_defined_functions.ipynb#X60sZmlsZQ%3D%3D?line=3'>4</a>\u001b[0m     \u001b[39mif\u001b[39;00m char\u001b[39m.\u001b[39mlower() \u001b[39mnot\u001b[39;00m \u001b[39min\u001b[39;00m [\u001b[39m'\u001b[39m\u001b[39ma\u001b[39m\u001b[39m'\u001b[39m,\u001b[39m'\u001b[39m\u001b[39me\u001b[39m\u001b[39m'\u001b[39m,\u001b[39m'\u001b[39m\u001b[39mi\u001b[39m\u001b[39m'\u001b[39m,\u001b[39m'\u001b[39m\u001b[39mo\u001b[39m\u001b[39m'\u001b[39m,\u001b[39m'\u001b[39m\u001b[39mu\u001b[39m\u001b[39m'\u001b[39m]:\n\u001b[1;32m----> <a href='vscode-notebook-cell:/c%3A/Users/Dell/OneDrive/Documents/DigipodiumPyhton/Functions/user_defined_functions.ipynb#X60sZmlsZQ%3D%3D?line=4'>5</a>\u001b[0m         result \u001b[39m=\u001b[39m result\u001b[39m+\u001b[39mchar\n\u001b[0;32m      <a href='vscode-notebook-cell:/c%3A/Users/Dell/OneDrive/Documents/DigipodiumPyhton/Functions/user_defined_functions.ipynb#X60sZmlsZQ%3D%3D?line=5'>6</a>\u001b[0m \u001b[39mreturn\u001b[39;00m result\n",
      "\u001b[1;31mUnboundLocalError\u001b[0m: cannot access local variable 'result' where it is not associated with a value"
     ]
    }
   ],
   "source": [
    "input_string = \"Vowels are removed\"\n",
    "result = remove_vowels(input_string)\n",
    "print(\"String with vowels removed:\", result)"
   ]
  },
  {
   "cell_type": "code",
   "execution_count": 28,
   "metadata": {},
   "outputs": [],
   "source": [
    "def remove_vowels(content):\n",
    "    vowels= \"aeiouAEIOU\"\n",
    "    for char in vowels:\n",
    "        content = content.replace(char,'')\n",
    "        return content"
   ]
  },
  {
   "cell_type": "code",
   "execution_count": 29,
   "metadata": {},
   "outputs": [
    {
     "data": {
      "text/plain": [
       "'This is  smple string of dt'"
      ]
     },
     "execution_count": 29,
     "metadata": {},
     "output_type": "execute_result"
    }
   ],
   "source": [
    "remove_vowels('This is a sample string of data')"
   ]
  },
  {
   "cell_type": "code",
   "execution_count": 31,
   "metadata": {},
   "outputs": [],
   "source": [
    "# find all the indexes of a substring in a given string using a function\n",
    "def find_indexes(substr, content):\n",
    "    startpos = 0\n",
    "    idx_list = []\n",
    "    for i in range(content.count(substr)):\n",
    "        idx = content.find(substr, start_pos)\n",
    "        if idx == -1:\n",
    "            break\n",
    "        idx_list.append(idx)\n",
    "        start_pos = idx + 1\n",
    "    return idx_list"
   ]
  },
  {
   "cell_type": "code",
   "execution_count": 32,
   "metadata": {},
   "outputs": [],
   "source": [
    "# extract all bi-grams from a string using a function\n",
    "def extract_bigrams(input_string):\n",
    "    words = input_string.split()\n",
    "    bigrams=[]\n",
    "    for i in range(len(words) - 1):\n",
    "        bigram = (words[i], words[i+1])\n",
    "        bigrams.append(bigram)\n",
    "    return bigram"
   ]
  },
  {
   "cell_type": "code",
   "execution_count": 33,
   "metadata": {},
   "outputs": [
    {
     "name": "stdout",
     "output_type": "stream",
     "text": [
      "Bi-grams: ('extracting', 'bigrams')\n"
     ]
    }
   ],
   "source": [
    "input_string = \"This is a sample string for extracting bigrams\"\n",
    "bi_grams = extract_bigrams(input_string)\n",
    "print(\"Bi-grams:\", bi_grams)"
   ]
  },
  {
   "cell_type": "code",
   "execution_count": 35,
   "metadata": {},
   "outputs": [
    {
     "name": "stdout",
     "output_type": "stream",
     "text": [
      "one two | 0 1\n",
      "two two | 1 1\n",
      "three two | 2 1\n",
      "four two | 3 1\n"
     ]
    }
   ],
   "source": [
    "msg = \"one two three four\"\n",
    "words = msg.split()\n",
    "f, s = 0, 1\n",
    "for i in range(len(words)):\n",
    "    print(words[f], words[s], end=' | ')\n",
    "    print(f,s)\n",
    "    f += 1\n",
    "    s =+1\n",
    "    "
   ]
  },
  {
   "cell_type": "code",
   "execution_count": null,
   "metadata": {},
   "outputs": [],
   "source": []
  }
 ],
 "metadata": {
  "kernelspec": {
   "display_name": "base",
   "language": "python",
   "name": "python3"
  },
  "language_info": {
   "codemirror_mode": {
    "name": "ipython",
    "version": 3
   },
   "file_extension": ".py",
   "mimetype": "text/x-python",
   "name": "python",
   "nbconvert_exporter": "python",
   "pygments_lexer": "ipython3",
   "version": "3.11.4"
  },
  "orig_nbformat": 4
 },
 "nbformat": 4,
 "nbformat_minor": 2
}
