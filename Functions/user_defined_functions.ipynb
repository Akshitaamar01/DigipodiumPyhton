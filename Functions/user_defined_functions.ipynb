{
 "cells": [
  {
   "cell_type": "markdown",
   "metadata": {},
   "source": [
    "# Non-Parameterized Function"
   ]
  },
  {
   "cell_type": "code",
   "execution_count": 2,
   "metadata": {},
   "outputs": [],
   "source": [
    "#define\n",
    "def message():\n",
    "    print(\"Good Morning\")"
   ]
  },
  {
   "cell_type": "code",
   "execution_count": 4,
   "metadata": {},
   "outputs": [
    {
     "name": "stdout",
     "output_type": "stream",
     "text": [
      "Good Morning\n"
     ]
    }
   ],
   "source": [
    "# call (use)\n",
    "message()"
   ]
  },
  {
   "cell_type": "code",
   "execution_count": 13,
   "metadata": {},
   "outputs": [],
   "source": [
    "def si():\n",
    "    p = int(input(\"Enter Principal Amount:\"))\n",
    "    r = float(input(\"Enter Rate of Interest:\"))\n",
    "    t = int(input(\"Enter time in years:\"))\n",
    "    si = p*r*t/100\n",
    "    print(f'Simple Interest is {si}')"
   ]
  },
  {
   "cell_type": "code",
   "execution_count": 10,
   "metadata": {},
   "outputs": [
    {
     "name": "stdout",
     "output_type": "stream",
     "text": [
      "Simple Interest is 4000.0\n",
      "\n"
     ]
    }
   ],
   "source": [
    "si()"
   ]
  },
  {
   "cell_type": "markdown",
   "metadata": {},
   "source": [
    "# Parameterized Functions\n",
    "- Required Parameters\n",
    "- Default Parameters\n",
    "- Keyword Parameters\n",
    "- Variable Argument (args)\n",
    "- Variable Keyword Arguments (kwargs)"
   ]
  },
  {
   "cell_type": "markdown",
   "metadata": {},
   "source": [
    "Requirement Parameters"
   ]
  },
  {
   "cell_type": "code",
   "execution_count": 17,
   "metadata": {},
   "outputs": [],
   "source": [
    "# More professional way to define functions\n",
    "def hypotenuse(p:int, b:int):\n",
    "    # this function takes perpendicular and base to calculate hypotenuse\n",
    "    h = (p**2 + b**2) **.5\n",
    "    print(f'hypotenuse: {h}')"
   ]
  },
  {
   "cell_type": "code",
   "execution_count": 15,
   "metadata": {},
   "outputs": [
    {
     "name": "stdout",
     "output_type": "stream",
     "text": [
      "hypotenuse: 50.0\n"
     ]
    }
   ],
   "source": [
    "hypotenuse(30,40)"
   ]
  },
  {
   "cell_type": "markdown",
   "metadata": {},
   "source": [
    "Default parameters\n",
    "- always start giving defaults from the right side\n",
    "- default values can be any"
   ]
  },
  {
   "cell_type": "code",
   "execution_count": 25,
   "metadata": {},
   "outputs": [],
   "source": [
    "def summer(a, b, c=0, d=0):\n",
    "    print(a +b + c +d)"
   ]
  },
  {
   "cell_type": "code",
   "execution_count": 23,
   "metadata": {},
   "outputs": [
    {
     "name": "stdout",
     "output_type": "stream",
     "text": [
      "103\n"
     ]
    }
   ],
   "source": [
    "summer(12, 34, 12, 45)"
   ]
  },
  {
   "cell_type": "code",
   "execution_count": 26,
   "metadata": {},
   "outputs": [
    {
     "name": "stdout",
     "output_type": "stream",
     "text": [
      "150\n"
     ]
    }
   ],
   "source": [
    "summer(120,30)"
   ]
  },
  {
   "cell_type": "code",
   "execution_count": 27,
   "metadata": {},
   "outputs": [
    {
     "name": "stdout",
     "output_type": "stream",
     "text": [
      "60\n"
     ]
    }
   ],
   "source": [
    "summer(10,20,30)"
   ]
  },
  {
   "cell_type": "code",
   "execution_count": 28,
   "metadata": {},
   "outputs": [],
   "source": [
    "def area_circle(radius =1):\n",
    "    area = 22/7 * radius ** 2\n",
    "    print (area)"
   ]
  },
  {
   "cell_type": "code",
   "execution_count": 29,
   "metadata": {},
   "outputs": [
    {
     "name": "stdout",
     "output_type": "stream",
     "text": [
      "314.2857142857143\n"
     ]
    }
   ],
   "source": [
    "area_circle(10)"
   ]
  },
  {
   "cell_type": "markdown",
   "metadata": {},
   "source": [
    "Keyword Arguments (named parameters)"
   ]
  },
  {
   "cell_type": "code",
   "execution_count": 31,
   "metadata": {},
   "outputs": [
    {
     "name": "stdout",
     "output_type": "stream",
     "text": [
      "10\n",
      "10\n",
      "33\n",
      "33\n",
      "13\n",
      "29\n",
      "314.2857142857143\n"
     ]
    }
   ],
   "source": [
    "summer(1,2,3,4)\n",
    "summer(a=1, b=2, c=3, d=4)\n",
    "summer(1, 2, c=10, d=20)\n",
    "summer(1,2, d=20, c=10)\n",
    "summer(d=5, c=5, a=1, b=2)\n",
    "summer(12,12,d=5)\n",
    "area_circle(radius=10)\n"
   ]
  },
  {
   "cell_type": "markdown",
   "metadata": {},
   "source": [
    "Variable Arguments"
   ]
  },
  {
   "cell_type": "code",
   "execution_count": 34,
   "metadata": {},
   "outputs": [],
   "source": [
    "def mean(*data):\n",
    "    ans = sum(data)/len(data)\n",
    "    print(f\"average:{ans}\")"
   ]
  },
  {
   "cell_type": "code",
   "execution_count": 35,
   "metadata": {},
   "outputs": [
    {
     "name": "stdout",
     "output_type": "stream",
     "text": [
      "average:3.5\n"
     ]
    }
   ],
   "source": [
    "mean(1,2,3,4,5,6)"
   ]
  },
  {
   "cell_type": "code",
   "execution_count": 36,
   "metadata": {},
   "outputs": [
    {
     "name": "stdout",
     "output_type": "stream",
     "text": [
      "average:2.526315789473684\n"
     ]
    }
   ],
   "source": [
    "mean(1,2,3,5,6,2,2,2,1,1,1,2,4,2,2,2,4,3,3)"
   ]
  },
  {
   "cell_type": "code",
   "execution_count": null,
   "metadata": {},
   "outputs": [],
   "source": []
  }
 ],
 "metadata": {
  "kernelspec": {
   "display_name": "base",
   "language": "python",
   "name": "python3"
  },
  "language_info": {
   "codemirror_mode": {
    "name": "ipython",
    "version": 3
   },
   "file_extension": ".py",
   "mimetype": "text/x-python",
   "name": "python",
   "nbconvert_exporter": "python",
   "pygments_lexer": "ipython3",
   "version": "3.11.4"
  },
  "orig_nbformat": 4
 },
 "nbformat": 4,
 "nbformat_minor": 2
}
