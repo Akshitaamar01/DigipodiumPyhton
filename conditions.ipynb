{
 "cells": [
  {
   "cell_type": "code",
   "execution_count": 3,
   "metadata": {},
   "outputs": [
    {
     "name": "stdout",
     "output_type": "stream",
     "text": [
      "x is greater than 3\n"
     ]
    }
   ],
   "source": [
    "x = 10\n",
    "if x > 3:\n",
    "    print('x is greater than 3')"
   ]
  },
  {
   "cell_type": "code",
   "execution_count": 4,
   "metadata": {},
   "outputs": [
    {
     "name": "stdout",
     "output_type": "stream",
     "text": [
      "x is equal to 10\n",
      "x is greater than 10\n"
     ]
    }
   ],
   "source": [
    "if x == 5:\n",
    "    print('x is equal to 5')\n",
    "if x == 10:\n",
    "    print('x is equal to 10')\n",
    "if x>= 10:\n",
    "    print('x is greater than 10')"
   ]
  },
  {
   "cell_type": "code",
   "execution_count": 9,
   "metadata": {},
   "outputs": [
    {
     "name": "stdout",
     "output_type": "stream",
     "text": [
      "👤Username is empty\n"
     ]
    }
   ],
   "source": [
    "username = input(\"Enter username\")\n",
    "password = input(\"Enter password\")\n",
    "if username:\n",
    "    if password:\n",
    "        if username == 'Alex' and password == 'Alexa':\n",
    "            print(\"login Successful\")\n",
    "        else:\n",
    "            print(\"❌Login failed\")\n",
    "    else:\n",
    "        print(\"🔑Password is empty\")\n",
    "else:\n",
    "    print(\"👤Username is empty\")\n",
    "        "
   ]
  },
  {
   "cell_type": "code",
   "execution_count": 11,
   "metadata": {},
   "outputs": [
    {
     "name": "stdout",
     "output_type": "stream",
     "text": [
      "Monday is my off day\n"
     ]
    }
   ],
   "source": [
    "offday = input(\"Enter your off day:\")\n",
    "match (offday):\n",
    "    case 'Sunday': \n",
    "        print (\"Sunday is my day off\")\n",
    "    case 'Wednesday':\n",
    "        print(\"Wednesday is my day off\")\n",
    "    case 'Saturday':\n",
    "        print(\"Satuday is my off day\")\n",
    "    case 'Friday':\n",
    "        print(\"Friday is my off day\")\n",
    "    case 'Monday':\n",
    "        print(\"Monday is my off day\")\n",
    "    case 'Thursday':\n",
    "        print(\"Thursday is my off day\")\n",
    "    case 'Tuesday':\n",
    "        print(\"Tuesday is my off day\")\n",
    "    case _:\n",
    "        print(\"I have no off day🥲\")"
   ]
  },
  {
   "cell_type": "code",
   "execution_count": null,
   "metadata": {},
   "outputs": [],
   "source": []
  }
 ],
 "metadata": {
  "kernelspec": {
   "display_name": "base",
   "language": "python",
   "name": "python3"
  },
  "language_info": {
   "codemirror_mode": {
    "name": "ipython",
    "version": 3
   },
   "file_extension": ".py",
   "mimetype": "text/x-python",
   "name": "python",
   "nbconvert_exporter": "python",
   "pygments_lexer": "ipython3",
   "version": "3.11.4"
  },
  "orig_nbformat": 4
 },
 "nbformat": 4,
 "nbformat_minor": 2
}
