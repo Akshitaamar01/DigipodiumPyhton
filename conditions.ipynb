{
 "cells": [
  {
   "cell_type": "code",
   "execution_count": 3,
   "metadata": {},
   "outputs": [
    {
     "name": "stdout",
     "output_type": "stream",
     "text": [
      "x is greater than 3\n"
     ]
    }
   ],
   "source": [
    "x = 10\n",
    "if x > 3:\n",
    "    print('x is greater than 3')"
   ]
  },
  {
   "cell_type": "code",
   "execution_count": 4,
   "metadata": {},
   "outputs": [
    {
     "name": "stdout",
     "output_type": "stream",
     "text": [
      "x is equal to 10\n",
      "x is greater than 10\n"
     ]
    }
   ],
   "source": [
    "if x == 5:\n",
    "    print('x is equal to 5')\n",
    "if x == 10:\n",
    "    print('x is equal to 10')\n",
    "if x>= 10:\n",
    "    print('x is greater than 10')"
   ]
  },
  {
   "cell_type": "code",
   "execution_count": 3,
   "metadata": {},
   "outputs": [
    {
     "name": "stdout",
     "output_type": "stream",
     "text": [
      "lo is in x\n"
     ]
    }
   ],
   "source": [
    "x = 'hello'\n",
    "if 'lo' in x:\n",
    "    print('lo is in x')\n",
    "else:\n",
    "    print('lo is not found')"
   ]
  },
  {
   "cell_type": "code",
   "execution_count": 1,
   "metadata": {},
   "outputs": [
    {
     "name": "stdout",
     "output_type": "stream",
     "text": [
      "❌Login failed\n"
     ]
    }
   ],
   "source": [
    "username = input(\"Enter username\")\n",
    "password = input(\"Enter password\")\n",
    "if username:\n",
    "    if password:\n",
    "        if username == 'Alex' and password == 'Alexa':\n",
    "            print(\"login Successful\")\n",
    "        else:\n",
    "            print(\"❌Login failed\")\n",
    "    else:\n",
    "        print(\"🔑Password is empty\")\n",
    "else:\n",
    "    print(\"👤Username is empty\")\n",
    "        "
   ]
  },
  {
   "cell_type": "code",
   "execution_count": 11,
   "metadata": {},
   "outputs": [
    {
     "name": "stdout",
     "output_type": "stream",
     "text": [
      "Monday is my off day\n"
     ]
    }
   ],
   "source": [
    "offday = input(\"Enter your off day:\")\n",
    "match (offday):\n",
    "    case 'Sunday': \n",
    "        print (\"Sunday is my day off\")\n",
    "    case 'Wednesday':\n",
    "        print(\"Wednesday is my day off\")\n",
    "    case 'Saturday':\n",
    "        print(\"Satuday is my off day\")\n",
    "    case 'Friday':\n",
    "        print(\"Friday is my off day\")\n",
    "    case 'Monday':\n",
    "        print(\"Monday is my off day\")\n",
    "    case 'Thursday':\n",
    "        print(\"Thursday is my off day\")\n",
    "    case 'Tuesday':\n",
    "        print(\"Tuesday is my off day\")\n",
    "    case _:\n",
    "        print(\"I have no off day🥲\")"
   ]
  },
  {
   "cell_type": "code",
   "execution_count": 10,
   "metadata": {},
   "outputs": [
    {
     "name": "stdout",
     "output_type": "stream",
     "text": [
      "Have your lunch or die🔪\n"
     ]
    }
   ],
   "source": [
    "had_lunch = input(\"Did you have lunch? (y/n):\")\n",
    "had_medicines = input(\"Did you take medicines? (y/n):\")\n",
    "if had_lunch == 'yes':\n",
    "    if had_medicines == 'yes':\n",
    "        print('Very good❤️')\n",
    "    else:\n",
    "        print('Take your medicines💊')\n",
    "else:\n",
    "    print('Have your lunch or die🔪')"
   ]
  },
  {
   "cell_type": "code",
   "execution_count": 11,
   "metadata": {},
   "outputs": [
    {
     "name": "stdout",
     "output_type": "stream",
     "text": [
      "What kind of ice cream flavour would you like?\n",
      "1. Chocolate\n",
      "2. Strawberry\n",
      "3. Vanilla\n",
      "4. Butterscotch\n",
      "5. Fruit and nut\n",
      "you have selected Strawberry flavour\n",
      "you have to pay 25\n"
     ]
    }
   ],
   "source": [
    "print ('What kind of ice cream flavour would you like?')\n",
    "print(f'1. Chocolate')\n",
    "print(f'2. Strawberry')\n",
    "print(f'3. Vanilla')\n",
    "print(f'4. Butterscotch')\n",
    "print(f'5. Fruit and nut')\n",
    "choice = input('Enter your choice: ')\n",
    "match choice:\n",
    "    case 'Chocolate':\n",
    "        cost = 35\n",
    "    case 'Vanilla':\n",
    "        cost = 20\n",
    "    case 'Strawberry':\n",
    "        cost = 25\n",
    "    case 'Butterscotch':\n",
    "        cost = 35\n",
    "    case 'Fruit and nut':\n",
    "        cost = 40\n",
    "    case _:\n",
    "        print('Flavour not available')\n",
    "        cost = 0 \n",
    "print(f'you have selected {choice} flavour')\n",
    "print(f'you have to pay {cost}')"
   ]
  },
  {
   "cell_type": "code",
   "execution_count": 18,
   "metadata": {},
   "outputs": [
    {
     "name": "stdout",
     "output_type": "stream",
     "text": [
      "you have to pay 1200.0 rupees\n"
     ]
    }
   ],
   "source": [
    "weight = float(input('how much apples do you want (kg)'))\n",
    "if weight == 1: price =110\n",
    "elif weight >= 2 and weight <=5: price =100 * weight\n",
    "elif weight >=6: price = 80 * weight\n",
    "print (f'you have to pay {price} rupees')\n"
   ]
  },
  {
   "cell_type": "code",
   "execution_count": 20,
   "metadata": {},
   "outputs": [
    {
     "name": "stdout",
     "output_type": "stream",
     "text": [
      "x is odd\n"
     ]
    }
   ],
   "source": [
    "x = 13\n",
    "print ('x is even') if x % 2 == 0 else print ('x is odd')"
   ]
  },
  {
   "cell_type": "code",
   "execution_count": null,
   "metadata": {},
   "outputs": [],
   "source": []
  }
 ],
 "metadata": {
  "kernelspec": {
   "display_name": "base",
   "language": "python",
   "name": "python3"
  },
  "language_info": {
   "codemirror_mode": {
    "name": "ipython",
    "version": 3
   },
   "file_extension": ".py",
   "mimetype": "text/x-python",
   "name": "python",
   "nbconvert_exporter": "python",
   "pygments_lexer": "ipython3",
   "version": "3.11.4"
  },
  "orig_nbformat": 4
 },
 "nbformat": 4,
 "nbformat_minor": 2
}
